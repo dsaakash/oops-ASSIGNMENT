{
 "cells": [
  {
   "cell_type": "code",
   "execution_count": 1,
   "id": "3beee7b9",
   "metadata": {},
   "outputs": [],
   "source": [
    "\n"
   ]
  },
  {
   "cell_type": "code",
   "execution_count": 3,
   "id": "56485e2f",
   "metadata": {},
   "outputs": [
    {
     "name": "stdout",
     "output_type": "stream",
     "text": [
      "Enter numerator number: 10\n",
      "Enter denominator number: 0\n",
      "You have divided a number by zero, which is not allowed.\n"
     ]
    }
   ],
   "source": [
    "# 1. With the help of try and inbuilt exception, display the exception.\n",
    "#2. Take two user inputs and pass those input variables in a try block. If the user input is 0, then \n",
    "# throw the ZeroDivisionError exception.\n",
    "\n",
    "\n",
    "try:\n",
    "    a = int(input(\"Enter numerator number: \"))\n",
    "    b = int(input(\"Enter denominator number: \"))\n",
    "    print(\"Result of Division: \" + str(a/b))\n",
    "# except block handling division by zero\n",
    "except(ZeroDivisionError):\n",
    "    print(\"You have divided a number by zero, which is not allowed.\")\n",
    "# except block handling wrong value type\n",
    "except(ValueError):\n",
    "    print(\"You must enter integer value\")\n",
    "# generic except block\n",
    "except:\n",
    "    print(\"Oops! Something went wrong!\")"
   ]
  },
  {
   "cell_type": "code",
   "execution_count": null,
   "id": "656fc198",
   "metadata": {},
   "outputs": [],
   "source": [
    "# 3. import math package with help of math package, print - math.exp(50000). Now use the inbuilt overflow\n",
    "# error exception on the match.exp() and print the exception\n",
    "import math as mt\n",
    "try:\n",
    "    mt.exp(50000)\n",
    "except OverflowError:\n",
    "    print(\"Over flow error\")"
   ]
  },
  {
   "cell_type": "code",
   "execution_count": 5,
   "id": "860e4735",
   "metadata": {},
   "outputs": [
    {
     "name": "stdout",
     "output_type": "stream",
     "text": [
      "Requirement already satisfied: termcolor in c:\\users\\hp\\anaconda3\\lib\\site-packages (1.1.0)\n",
      "\u001b[41m\u001b[37mHello world\u001b[0m\n"
     ]
    }
   ],
   "source": [
    "# 4 Now install the ‘termcolor’ package in the anaconda prompt, and import that package to \n",
    "# provide the colors to the print statement in Jupyter Notebook.\n",
    "\n",
    "# 4. Now install the 'termcolor' package in the anaconda prompt, and import that package to provide\n",
    "# the colors to the print statement in jupyter notebook\n",
    "! pip install termcolor\n",
    "\n",
    "from termcolor import colored\n",
    "print(colored(\"Hello world\",\"white\",\"on_red\"))\n"
   ]
  },
  {
   "cell_type": "code",
   "execution_count": 4,
   "id": "95a7552e",
   "metadata": {},
   "outputs": [
    {
     "name": "stdout",
     "output_type": "stream",
     "text": [
      "Enter a number: 12\n",
      "This value is too large, try again!\n",
      "\n",
      "Enter a number: 10\n",
      "Congratulations! You guessed it correctly.\n"
     ]
    }
   ],
   "source": [
    "#5 Create your own exception with the help of class and functions\n",
    "\n",
    "# define Python user-defined exceptions\n",
    "class Error(Exception):\n",
    "    \"\"\"Base class for other exceptions\"\"\"\n",
    "    pass\n",
    "\n",
    "\n",
    "class ValueTooSmallError(Error):\n",
    "    \"\"\"Raised when the input value is too small\"\"\"\n",
    "    pass\n",
    "\n",
    "\n",
    "class ValueTooLargeError(Error):\n",
    "    \"\"\"Raised when the input value is too large\"\"\"\n",
    "    pass\n",
    "\n",
    "\n",
    "# you need to guess this number\n",
    "number = 10\n",
    "\n",
    "# user guesses a number until he/she gets it right\n",
    "while True:\n",
    "    try:\n",
    "        i_num = int(input(\"Enter a number: \"))\n",
    "        if i_num < number:\n",
    "            raise ValueTooSmallError\n",
    "        elif i_num > number:\n",
    "            raise ValueTooLargeError\n",
    "        break\n",
    "    except ValueTooSmallError:\n",
    "        print(\"This value is too small, try again!\")\n",
    "        print()\n",
    "    except ValueTooLargeError:\n",
    "        print(\"This value is too large, try again!\")\n",
    "        print()\n",
    "\n",
    "print(\"Congratulations! You guessed it correctly.\")"
   ]
  },
  {
   "cell_type": "code",
   "execution_count": 9,
   "id": "3be44fd6",
   "metadata": {},
   "outputs": [
    {
     "name": "stdout",
     "output_type": "stream",
     "text": [
      "Enter any month number: 10\n",
      "Oct\n"
     ]
    }
   ],
   "source": [
    "#5 Create your own exception with the help of class and functions.\n",
    "months=[\"Jan\" ,\"Feb\" ,\"Mar\" ,\"Apr\" ,\"May\" ,\"Jun\" ,\"Jul\" ,\"Aug\" ,\"Sep\" ,\"Oct\" ,\"Nov\" ,\"Dec\"]\n",
    "class ExceptionMonth(Exception):\n",
    "    pass\n",
    "try:\n",
    "    month = int(input(\"Enter any month number: \"))\n",
    "    if(month > 12):\n",
    "        raise ExceptionMonth\n",
    "    else:\n",
    "        print(months[month-1])\n",
    "except ExceptionMonth:\n",
    "    print(\"You have entered invalid Month\")"
   ]
  },
  {
   "cell_type": "markdown",
   "id": "fbd3fcdc",
   "metadata": {},
   "source": [
    "# Assignment 2"
   ]
  },
  {
   "cell_type": "code",
   "execution_count": 21,
   "id": "b3c65ec5",
   "metadata": {},
   "outputs": [
    {
     "name": "stdout",
     "output_type": "stream",
     "text": [
      "Enter an number5\n",
      "The factorial of the number is 120\n"
     ]
    }
   ],
   "source": [
    "# 1. Create a function named 'factor' that can only accept 1 argumrnt. The function should return\n",
    "# the factorial of that number:\n",
    "def factorial(num2):\n",
    "    if num2 < 0:\n",
    "        return 'Factorial does not exist'\n",
    "    elif num2 == 0:\n",
    "        return 1\n",
    "    else:\n",
    "        return num2 * factorial(num2-1)\n",
    "number1 = int(input(\"Enter an number\"))\n",
    "print(\"The factorial of the number is\",factorial(number1))"
   ]
  },
  {
   "cell_type": "code",
   "execution_count": 22,
   "id": "37357823",
   "metadata": {},
   "outputs": [
    {
     "name": "stdout",
     "output_type": "stream",
     "text": [
      "Enter any string data: asdfdf\n",
      "The string contains s\n"
     ]
    }
   ],
   "source": [
    "# 2. Create fucntion named 'check_string' the function should accept string data from the user and the\n",
    "# function should check if the user input contains letter 's' in it. If it contains the letter 's'\n",
    "# then print- The string contains the letter 's', if not then print 'The string doesnt not contain s'\n",
    "def check_string(string):\n",
    "    if \"s\" in string:\n",
    "        print(\"The string contains s\")\n",
    "    else:\n",
    "        print(\"The string does not contain s\")\n",
    "\n",
    "input_string = str(input(\"Enter any string data: \"))\n",
    "check_string(input_string)"
   ]
  },
  {
   "cell_type": "code",
   "execution_count": 24,
   "id": "6704f231",
   "metadata": {},
   "outputs": [
    {
     "name": "stdout",
     "output_type": "stream",
     "text": [
      "Enter any value: 2\n",
      "2\n"
     ]
    }
   ],
   "source": [
    "#3. Create a class named 'student' and inside the class, create a function named 'fun1' this method\n",
    "# should accept the user defined input and return that value\n",
    "# 3 a. Create another funtion named message() and that method should print the user defined input we \n",
    "# have defined in 'fun1'\n",
    "class Student:\n",
    "    def fun1(self, value):\n",
    "        self.value = value\n",
    "        return self.value\n",
    "    def message(self):\n",
    "        return self.value\n",
    "abhi=Student()\n",
    "abhi.fun1(int(input(\"Enter any value: \")))\n",
    "print(abhi.message())"
   ]
  },
  {
   "cell_type": "code",
   "execution_count": 25,
   "id": "5567e0cf",
   "metadata": {},
   "outputs": [
    {
     "data": {
      "text/plain": [
       "10"
      ]
     },
     "execution_count": 25,
     "metadata": {},
     "output_type": "execute_result"
    }
   ],
   "source": [
    "#4 Create a lambda function that should double or multiply the number (that we will be passing in the\n",
    "# lambda function) by 2. Store the lambda function in a variable named 'double_num'\n",
    "Double_num = lambda x :x*2\n",
    "Double_num(5)"
   ]
  },
  {
   "cell_type": "code",
   "execution_count": 29,
   "id": "7bde6222",
   "metadata": {},
   "outputs": [
    {
     "name": "stdout",
     "output_type": "stream",
     "text": [
      "Enter string to check if it is Palindrome? malayalam\n",
      "Palindrome\n"
     ]
    }
   ],
   "source": [
    "# 5. Take user input string and check whether that string is palindrome or not \n",
    "def isPalindrome(s):\n",
    "    s=s.lower()\n",
    "    return s == s[::-1]\n",
    "if(isPalindrome(str(input(\"Enter string to check if it is Palindrome? \"))) == True):\n",
    "    print(\"Palindrome\")\n",
    "else:\n",
    "    print(\"Not Palindrome\")"
   ]
  },
  {
   "cell_type": "markdown",
   "id": "780c58ff",
   "metadata": {},
   "source": [
    "# Assignment 3"
   ]
  },
  {
   "cell_type": "code",
   "execution_count": 30,
   "id": "29132140",
   "metadata": {},
   "outputs": [
    {
     "name": "stdout",
     "output_type": "stream",
     "text": [
      "This function 1 is in super class\n"
     ]
    }
   ],
   "source": [
    "# 1. Create a class named 'Super' and inside that class define a user-defined function named fun1.\n",
    "# 1. a. Inside the 'fun1' function, pass the message \"This is function 1 in the Super class.\" in\n",
    "#       the print statement\n",
    "class Super:\n",
    "    def fun1(self, message):\n",
    "        print(message)\n",
    "\n",
    "call_class = Super()\n",
    "call_class.fun1(\"This function 1 is in super class\")"
   ]
  },
  {
   "cell_type": "code",
   "execution_count": 31,
   "id": "751fdb3b",
   "metadata": {},
   "outputs": [
    {
     "name": "stdout",
     "output_type": "stream",
     "text": [
      "This function 1 is in the modified super class\n",
      "This function 2 is in the modified super class\n"
     ]
    }
   ],
   "source": [
    "#2. Create another classed name 'Modified_Super' and inherit this class from the super class\n",
    "# 2. a. inside the Modified_Super class, create a function named fun1 and pass following message\n",
    "#        inside the print statement. 'This is function 1 in the modified super class'\n",
    "# 2. b. Create another user-defined function named 'fun2' and pass the message. This is the 2nd\n",
    "#       function from the modified super class in the print statement\n",
    "class Modified_Super(Super):\n",
    "    def fun1(self, message):\n",
    "        print(message)\n",
    "    def fun2(self, message):\n",
    "        print(message)\n",
    "obj = Modified_Super()\n",
    "obj.fun1(\"This function 1 is in the modified super class\")\n",
    "obj.fun2(\"This function 2 is in the modified super class\")"
   ]
  },
  {
   "cell_type": "code",
   "execution_count": 32,
   "id": "8dbec6b8",
   "metadata": {},
   "outputs": [
    {
     "name": "stdout",
     "output_type": "stream",
     "text": [
      "21\n"
     ]
    }
   ],
   "source": [
    "# 3. Create a method named summ that can accept multiple user inputs. Now add those user-defined\n",
    "#    input values usingfor loop and the function should return the addition of the numbers.\n",
    "def sum(*args):\n",
    "    sum_number=0\n",
    "    for i in range(len(args)):\n",
    "        sum_number += args[i]\n",
    "    print(sum_number)\n",
    "sum(1,2,3,4,5,6)"
   ]
  },
  {
   "cell_type": "code",
   "execution_count": 33,
   "id": "722af596",
   "metadata": {},
   "outputs": [
    {
     "name": "stdout",
     "output_type": "stream",
     "text": [
      "10\n",
      "20\n"
     ]
    }
   ],
   "source": [
    "# 4. Create a class named 'Encapsulation'\n",
    "# a. Inside the class, first create a constructor. Inside the constructor, initialize originalValue\n",
    "#    variable as 10.\n",
    "# b. After creating the constructor, define a function named value and this function should return \n",
    "#    the variable that we have initialized in the constructor\n",
    "# c. Now create 2nd function named setValue, and pass an argument named 'newValue'. The task of this\n",
    "#    function will be to replace the value of the originalValue variable by the value of newValue \n",
    "#    variable\n",
    "class Encapsulation:\n",
    "    def __init__(self):\n",
    "        self.originalValue=10\n",
    "    def value(self):\n",
    "        return self.originalValue\n",
    "    def setValue(self,value):\n",
    "        self.originalValue = value\n",
    "encapsulation = Encapsulation()\n",
    "print(encapsulation.value())\n",
    "encapsulation.setValue(20)\n",
    "print(encapsulation.value())"
   ]
  },
  {
   "cell_type": "code",
   "execution_count": 34,
   "id": "39a2dbd5",
   "metadata": {},
   "outputs": [
    {
     "data": {
      "text/plain": [
       "'Ahsan'"
      ]
     },
     "execution_count": 34,
     "metadata": {},
     "output_type": "execute_result"
    }
   ],
   "source": [
    "#Module 2 - Inheritance - Assignment 5\n",
    "# 1. Create a class named parent_class and inside the class, initialize a global variable num as 10\n",
    "\n",
    "class parent_Class:\n",
    "    num=10\n",
    " #2. Create three classes named A, B, C.\n",
    "# a. Inside the A class create a constructor. Inside the constructor, initialize 2 global variables\n",
    "#    name and age\n",
    "# b. After initializing the global variable inside the constructor, now create a fucntion named\n",
    "#   'details' and that function should return the name variable\n",
    "\n",
    "class A:\n",
    "    def __init__(self):\n",
    "        self.name = \"Ahsan\"\n",
    "        self.age = 47\n",
    "    def details(self):\n",
    "        return self.name\n",
    "# c. Inside the B class, create a constructor, inside the constructor initialize 2 global variable\n",
    "#    name and id\n",
    "# d. After initializing the global variables inside the constructor, now create a function named \n",
    "#   'details' and that function should return the 'name' variable\n",
    "class B:\n",
    "    def __init__(self):\n",
    "        self.name = \"Zia\" \n",
    "        self.id = 1\n",
    "    def details(self):\n",
    "        return self.name\n",
    "# e. The C class should inherit from class A, and B. Inside the class C, create a constructor, and \n",
    "#    inside the constructor, call the constructor of class A\n",
    "# f. Now, create a method inside the class C, as get_details, and this function should return the \n",
    "#    value of name\n",
    "class C(A,B):\n",
    "    def __init__(self):\n",
    "        A.__init__(self)\n",
    "    def get_details(self):\n",
    "        return self.name\n",
    "# g. Atleast, create an object of class C, and with the help of the object, call the get_details().\n",
    "obj = C()\n",
    "obj.get_details()"
   ]
  },
  {
   "cell_type": "code",
   "execution_count": null,
   "id": "27062a4f",
   "metadata": {},
   "outputs": [],
   "source": []
  }
 ],
 "metadata": {
  "kernelspec": {
   "display_name": "Python 3 (ipykernel)",
   "language": "python",
   "name": "python3"
  },
  "language_info": {
   "codemirror_mode": {
    "name": "ipython",
    "version": 3
   },
   "file_extension": ".py",
   "mimetype": "text/x-python",
   "name": "python",
   "nbconvert_exporter": "python",
   "pygments_lexer": "ipython3",
   "version": "3.9.7"
  }
 },
 "nbformat": 4,
 "nbformat_minor": 5
}
