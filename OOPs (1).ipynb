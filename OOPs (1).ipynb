{
  "nbformat": 4,
  "nbformat_minor": 0,
  "metadata": {
    "colab": {
      "name": "OOPs.ipynb",
      "provenance": [],
      "collapsed_sections": [
        "p8dX4hC1nD4A",
        "BClfttsbmwTc",
        "DdcucZjzmiQw",
        "zxde_6_smXNM",
        "l2LHG-CYmNzj",
        "xEQOllBTnzsC",
        "3LQP3zrOq800",
        "GrH4IT-otjZd",
        "d9udSQKuurjh",
        "PaEpwTDDxVDp",
        "4TfIx6c8y9Wn",
        "byLRQCpK3meE"
      ]
    },
    "kernelspec": {
      "name": "python3",
      "display_name": "Python 3"
    },
    "language_info": {
      "name": "python"
    }
  },
  "cells": [
    {
      "cell_type": "markdown",
      "source": [
        "# **Casting**"
      ],
      "metadata": {
        "id": "bVzUG_sxuh-r"
      }
    },
    {
      "cell_type": "code",
      "source": [
        "string_num = \"225\"\n",
        "print(type(string_num))\n",
        "# Output class 'str'\n",
        "\n",
        "# converting str to integer\n",
        "num1 = int(string_num)\n",
        "\n",
        "print(\"Integer number 1:\", num1)\n",
        "# Output 225\n",
        "print(type(num1))\n",
        "# Output class 'int'"
      ],
      "metadata": {
        "colab": {
          "base_uri": "https://localhost:8080/"
        },
        "id": "Kq6il054uo_b",
        "outputId": "432afbe7-ad75-4a48-cf94-5ffb53cc623d"
      },
      "execution_count": null,
      "outputs": [
        {
          "output_type": "stream",
          "name": "stdout",
          "text": [
            "<class 'str'>\n",
            "Integer number 1: 225\n",
            "<class 'int'>\n"
          ]
        }
      ]
    },
    {
      "cell_type": "code",
      "source": [
        "#Casting float type to complex type\n",
        "r_num = 53.250\n",
        "print(type(r_num))  # class 'float'\n",
        "\n",
        "# converting float to complex(x)\n",
        "c_num = complex(r_num)\n",
        "\n",
        "print(\"Complex number:\", c_num)\n",
        "# Output (53.25+0j)\n",
        "print(type(c_num))  \n",
        "# class 'complex'\n",
        "\n",
        "# converting float to complex(x, y)\n",
        "r_num, i_num2 = 53.250, 350.750\n",
        "c_num = complex(r_num, i_num2)\n",
        "\n",
        "print(\"Complex number:\", c_num)\n",
        "# Output (53.25+350.75j)\n",
        "print(type(c_num))\n",
        "# class 'complex'"
      ],
      "metadata": {
        "colab": {
          "base_uri": "https://localhost:8080/"
        },
        "id": "eSBmDpqOu6GC",
        "outputId": "c22e0491-645d-413b-95ad-25f03520918b"
      },
      "execution_count": null,
      "outputs": [
        {
          "output_type": "stream",
          "name": "stdout",
          "text": [
            "<class 'float'>\n",
            "Complex number: (53.25+0j)\n",
            "<class 'complex'>\n",
            "Complex number: (53.25+350.75j)\n",
            "<class 'complex'>\n"
          ]
        }
      ]
    },
    {
      "cell_type": "code",
      "source": [
        "# OOPs: Object Oriented Programming Language:\n",
        "# Features of OOPS\n",
        "# Object: Real word Entity.\n",
        "# Class: Bule Print of the object. It is a collection fo various methods and variables.\n",
        "# Data Encapsulation:  "
      ],
      "metadata": {
        "id": "zHhJwpsUiLv9"
      },
      "execution_count": null,
      "outputs": []
    },
    {
      "cell_type": "markdown",
      "source": [
        "# **Objects and Classes**\n",
        " "
      ],
      "metadata": {
        "id": "p8dX4hC1nD4A"
      }
    },
    {
      "cell_type": "code",
      "execution_count": null,
      "metadata": {
        "colab": {
          "base_uri": "https://localhost:8080/"
        },
        "id": "xlsgZthNdSh1",
        "outputId": "ed90ac8a-c5c6-43c5-fde1-d110a60d4066"
      },
      "outputs": [
        {
          "output_type": "stream",
          "name": "stdout",
          "text": [
            "Employee: Harry 12000 ABC Company\n",
            "Employee: Emma 10000 ABC Company\n"
          ]
        }
      ],
      "source": [
        "#Objects and Classes\n",
        "# syntax: class class_name\n",
        "\n",
        "class Employee:\n",
        "    # class variables\n",
        "    company_name = 'ABC Company'\n",
        "    #def __init__(self): # default\n",
        "\n",
        "    # constructor to initialize the object\n",
        "    def __init__(self, name, salary): # parameterized\n",
        "        # instance variables\n",
        "        self.name = name\n",
        "        self.salary = salary\n",
        "\n",
        "    # instance method\n",
        "    def show(self):\n",
        "        print('Employee:', self.name, self.salary, self.company_name)\n",
        "\n",
        "# create first object\n",
        "# object name = Class_name\n",
        "emp1 = Employee(\"Harry\", 12000)\n",
        "emp1.show()  # dot(.) operator is used to access anything from the same class.\n",
        "\n",
        "# create second object\n",
        "emp2 = Employee(\"Emma\", 10000)\n",
        "emp2.show()"
      ]
    },
    {
      "cell_type": "markdown",
      "source": [
        "# **Constructor**"
      ],
      "metadata": {
        "id": "BClfttsbmwTc"
      }
    },
    {
      "cell_type": "code",
      "source": [
        "#constructor\n",
        "# contructor can parameterized, and it can be default.\n",
        "class Employee:\n",
        "  #def __init__(): #default constructor\n",
        "    # parameterized constructor\n",
        "    def __init__(self, name, age, salary):\n",
        "        self.name = name\n",
        "        self.age = age\n",
        "        self.salary = salary\n",
        "\n",
        "    # display object\n",
        "    def show(self):\n",
        "        print(self.name, self.age, self.salary)\n",
        "\n",
        "# creating object of the Employee class\n",
        "emma = Employee(\"Imran\",23,700)\n",
        "emma.show()\n",
        "\n",
        "#kelly = Employee('Kelly', 25, 8500)\n",
        "#kelly.show()"
      ],
      "metadata": {
        "colab": {
          "base_uri": "https://localhost:8080/"
        },
        "id": "m-LiydZQddPy",
        "outputId": "59e46aeb-623b-426e-e133-c1a5f91f7b40"
      },
      "execution_count": null,
      "outputs": [
        {
          "output_type": "stream",
          "name": "stdout",
          "text": [
            "Imran 23 700\n"
          ]
        }
      ]
    },
    {
      "cell_type": "code",
      "source": [
        "#Python does not support constructor overloading.\n",
        "#If we define multiple constructors then, the interpreter will considers only the last constructor and \n",
        "#throws an error if the sequence of the arguments doesn’t match as per the last constructor.\n",
        "class Student:\n",
        "    # one argument constructor\n",
        "    def __init__(self, name):\n",
        "        print(\"One arguments constructor\")\n",
        "        self.name = name\n",
        "\n",
        "    # two argument constructor\n",
        "    def __init__(self, name, age):\n",
        "        print(\"Two arguments constructor\")\n",
        "        self.name = name\n",
        "        self.age = age\n",
        "\n",
        "# creating first object\n",
        "#emma = Student('Emma')\n",
        "\n",
        "# creating Second object\n",
        "kelly = Student('Kelly', 13)"
      ],
      "metadata": {
        "colab": {
          "base_uri": "https://localhost:8080/"
        },
        "id": "6HXyn632eL5h",
        "outputId": "b675e8ee-659f-41ca-d673-9acc90365945"
      },
      "execution_count": null,
      "outputs": [
        {
          "output_type": "stream",
          "name": "stdout",
          "text": [
            "Two arguments constructor\n"
          ]
        }
      ]
    },
    {
      "cell_type": "code",
      "source": [
        "#Constructor chaining is the process of calling one constructor from another constructor.\n",
        "# Constructor chaining is useful when you want to invoke multiple constructors, one after another, by initializing only one instance.\n",
        "#In Python, constructor chaining is convenient when we are dealing with inheritance. When an instance of a child class is initialized,\n",
        "# the constructors of all the parent classes are first invoked and then, in the end, the constructor of the child class is invoked.\n",
        "\n",
        "class Vehicle:\n",
        "    # Constructor of Vehicle\n",
        "    def __init__(self, engine):\n",
        "        print('Inside Vehicle Constructor')\n",
        "        self.engine = engine\n",
        "\n",
        "class Car(Vehicle):\n",
        "    # Constructor of Car\n",
        "    def __init__(self, engine, max_speed):\n",
        "        super().__init__(engine)\n",
        "        print('Inside Car Constructor')\n",
        "        self.max_speed = max_speed\n",
        "\n",
        "class Electric_Car(Car):\n",
        "    # Constructor of Electric Car\n",
        "    def __init__(self, engine, max_speed, km_range):\n",
        "        super().__init__(engine, max_speed)\n",
        "        print('Inside Electric Car Constructor')\n",
        "        self.km_range = km_range\n",
        "\n",
        "# Object of electric car\n",
        "ev = Electric_Car('1500cc', 240, 750)\n",
        "print(f'Engine={ev.engine}, Max Speed={ev.max_speed}, Km range={ev.km_range}')"
      ],
      "metadata": {
        "colab": {
          "base_uri": "https://localhost:8080/"
        },
        "id": "WtrC-ODRebVs",
        "outputId": "e8d8d294-c46c-4d66-9d21-e36a40ee6bce"
      },
      "execution_count": null,
      "outputs": [
        {
          "output_type": "stream",
          "name": "stdout",
          "text": [
            "Inside Vehicle Constructor\n",
            "Inside Car Constructor\n",
            "Inside Electric Car Constructor\n",
            "Engine=1500cc, Max Speed=240, Km range=750\n"
          ]
        }
      ]
    },
    {
      "cell_type": "code",
      "source": [
        "#A destructor is called when an object is deleted or destroyed. \n",
        "#Destructor is used to perform the clean-up activity before destroying the object, such as closing database connections or filehandle.\n",
        "#Python has a garbage collector that handles memory management automatically. For example, it cleans up the memory when an object goes out of scope.\n",
        "#The magic method __del__() is used as the destructor in Python\n",
        "\n",
        "class Student:\n",
        "\n",
        "    # constructor\n",
        "    def __init__(self, name):\n",
        "        print('Inside Constructor')\n",
        "        self.name = name\n",
        "        print('Object initialized')\n",
        "\n",
        "    def show(self):\n",
        "        print('Hello, my name is', self.name)\n",
        "\n",
        "    # destructor\n",
        "    def __del__(self):\n",
        "        print('Inside destructor')\n",
        "        print('Object destroyed')\n",
        "\n",
        "# create object\n",
        "s1 = Student('Emma')\n",
        "s1.show()\n",
        "\n",
        "# delete object\n",
        "del s1"
      ],
      "metadata": {
        "colab": {
          "base_uri": "https://localhost:8080/"
        },
        "id": "Q4D6Y1nEflOB",
        "outputId": "e06b9a64-7916-44e5-b31c-1ac5fbfc366a"
      },
      "execution_count": null,
      "outputs": [
        {
          "output_type": "stream",
          "name": "stdout",
          "text": [
            "Inside Constructor\n",
            "Object initialized\n",
            "Hello, my name is Emma\n",
            "Inside destructor\n",
            "Object destroyed\n"
          ]
        }
      ]
    },
    {
      "cell_type": "markdown",
      "source": [
        "# **Encapsulation in Python**"
      ],
      "metadata": {
        "id": "DdcucZjzmiQw"
      }
    },
    {
      "cell_type": "code",
      "source": [
        "# Encapsulation in Python\n",
        "\n",
        "class Employee:\n",
        "    # constructor\n",
        "    def __init__(self, name, salary, project):\n",
        "        # data members\n",
        "        self.name = name\n",
        "        self.salary = salary\n",
        "        self.project = project\n",
        "\n",
        "    # method\n",
        "    # to display employee's details\n",
        "    def show(self):\n",
        "        # accessing public data member\n",
        "        print(\"Name: \", self.name, 'Salary:', self.salary)\n",
        "\n",
        "    # method\n",
        "    def work(self):\n",
        "        print(self.name, 'is working on', self.project)\n",
        "\n",
        "# creating object of a class\n",
        "emp = Employee('Jessa', 8000, 'NLP')\n",
        "\n",
        "# calling public method of the class\n",
        "emp.show()\n",
        "emp.work()"
      ],
      "metadata": {
        "colab": {
          "base_uri": "https://localhost:8080/"
        },
        "id": "BSs3r4i0hpP-",
        "outputId": "a65f8510-d564-4b63-f844-4512ec1a4fbd"
      },
      "execution_count": null,
      "outputs": [
        {
          "output_type": "stream",
          "name": "stdout",
          "text": [
            "Name:  Jessa Salary: 8000\n",
            "Jessa is working on NLP\n"
          ]
        }
      ]
    },
    {
      "cell_type": "code",
      "source": [
        "# Private member:\n",
        "\n",
        "class Employee:\n",
        "    # constructor\n",
        "    def __init__(self, name, salary):\n",
        "        # public data member\n",
        "        self.name = name\n",
        "        # private member\n",
        "        self.__salary = salary\n",
        "        \n",
        "    # public instance methods\n",
        "    def show(self):\n",
        "        # private members are accessible from a class\n",
        "        print(\"Name: \", self.name, 'Salary:', self.__salary)\n",
        "\n",
        "# creating object of a class\n",
        "emp = Employee('Jessa', 10000)\n",
        "\n",
        "# calling public method of the class\n",
        "emp.show()"
      ],
      "metadata": {
        "colab": {
          "base_uri": "https://localhost:8080/"
        },
        "id": "3RNt3UghiM-h",
        "outputId": "dc765841-a01b-4b23-c375-0e583d1aba43"
      },
      "execution_count": null,
      "outputs": [
        {
          "output_type": "stream",
          "name": "stdout",
          "text": [
            "Name:  Jessa Salary: 10000\n"
          ]
        }
      ]
    },
    {
      "cell_type": "markdown",
      "source": [
        "# **Polymorphism**"
      ],
      "metadata": {
        "id": "zxde_6_smXNM"
      }
    },
    {
      "cell_type": "code",
      "source": [
        "class Shape:\n",
        "    # function with two default parameters\n",
        "    def area(self, a, b=0):   # a = 10, B = 20\n",
        "        if b > 0:\n",
        "            print('Area of Rectangle is:', a * b)\n",
        "        else:\n",
        "            print('Area of Square is:', a ** 2) \n",
        "\n",
        "a1 = Shape()\n",
        "a1.area(3)\n",
        "\n",
        "rectangle = Shape()\n",
        "rectangle.area(2,10)"
      ],
      "metadata": {
        "colab": {
          "base_uri": "https://localhost:8080/"
        },
        "id": "zKW1eudnkUQK",
        "outputId": "9dd1f3e8-9c68-4adf-c8d0-a0846326d2cb"
      },
      "execution_count": null,
      "outputs": [
        {
          "output_type": "stream",
          "name": "stdout",
          "text": [
            "Area of Square is: 9\n",
            "Area of Rectangle is: 20\n"
          ]
        }
      ]
    },
    {
      "cell_type": "markdown",
      "source": [
        "# **Inheritance**"
      ],
      "metadata": {
        "id": "l2LHG-CYmNzj"
      }
    },
    {
      "cell_type": "code",
      "source": [
        "#Inheritance \n",
        "# Base class\n",
        "class Vehicle:\n",
        "  a = 10\n",
        "  def Vehicle_info(self):\n",
        "        print('Inside Vehicle class')\n",
        "\n",
        "# Child class\n",
        "class Car(Vehicle):\n",
        "    def car_info(self):\n",
        "        print('Inside Car class')\n",
        "\n",
        "# Create object of Car\n",
        "car = Car()\n",
        "print(car.a)\n",
        "\n",
        "# access Vehicle's info using car object\n",
        "car.Vehicle_info()\n",
        "car.car_info()"
      ],
      "metadata": {
        "colab": {
          "base_uri": "https://localhost:8080/"
        },
        "id": "fV_A3P9qkmO2",
        "outputId": "daecd96a-a182-4597-8569-7c9d9b56c950"
      },
      "execution_count": null,
      "outputs": [
        {
          "output_type": "stream",
          "name": "stdout",
          "text": [
            "10\n",
            "Inside Vehicle class\n",
            "Inside Car class\n"
          ]
        }
      ]
    },
    {
      "cell_type": "code",
      "source": [
        "# Python Multiple Inheritance\n",
        "# Parent class 1\n",
        "class Person:\n",
        "    def person_info(self, name, age):\n",
        "        print('Inside Person class')\n",
        "        print('Name:', name, 'Age:', age)\n",
        "\n",
        "# Parent class 2\n",
        "class Company:\n",
        "    def company_info(self, company_name, location):\n",
        "        print('Inside Company class')\n",
        "        print('Name:', company_name, 'location:', location)\n",
        "\n",
        "# Child class\n",
        "class Employee(Person, Company):\n",
        "    def Employee_info(self, salary, skill):\n",
        "        print('Inside Employee class')\n",
        "        print('Salary:', salary, 'Skill:', skill)\n",
        "\n",
        "# Create object of Employee\n",
        "emp = Employee()\n",
        "\n",
        "# access data\n",
        "emp.person_info('Jessa', 28)\n",
        "emp.company_info('Google', 'Atlanta')\n",
        "emp.Employee_info(12000, 'Machine Learning')"
      ],
      "metadata": {
        "colab": {
          "base_uri": "https://localhost:8080/"
        },
        "id": "inKuHIkIktKv",
        "outputId": "aaf312be-017a-4e0b-ebec-5ee4f1fcf3f2"
      },
      "execution_count": null,
      "outputs": [
        {
          "output_type": "stream",
          "name": "stdout",
          "text": [
            "Inside Person class\n",
            "Name: Jessa Age: 28\n",
            "Inside Company class\n",
            "Name: Google location: Atlanta\n",
            "Inside Employee class\n",
            "Salary: 12000 Skill: Machine Learning\n"
          ]
        }
      ]
    },
    {
      "cell_type": "code",
      "source": [
        "# Multilevel Inheritance: \n",
        "# Base class\n",
        "class Vehicle:\n",
        "    def Vehicle_info(self):\n",
        "        print('Inside Vehicle class')\n",
        "\n",
        "# Child class\n",
        "class Car(Vehicle):\n",
        "    def car_info(self):\n",
        "        print('Inside Car class')\n",
        "\n",
        "# Child class\n",
        "class SportsCar(Car):\n",
        "    def sports_car_info(self):\n",
        "        print('Inside SportsCar class')\n",
        "\n",
        "# Create object of SportsCar\n",
        "s_car = SportsCar()\n",
        "\n",
        "# access Vehicle's and Car info using SportsCar object\n",
        "s_car.Vehicle_info()\n",
        "s_car.car_info()\n",
        "s_car.sports_car_info()"
      ],
      "metadata": {
        "colab": {
          "base_uri": "https://localhost:8080/"
        },
        "id": "KsaGIrdRk6b9",
        "outputId": "b24c07a7-2766-47e3-95ee-a040a4aa2dc8"
      },
      "execution_count": null,
      "outputs": [
        {
          "output_type": "stream",
          "name": "stdout",
          "text": [
            "Inside Vehicle class\n",
            "Inside Car class\n",
            "Inside SportsCar class\n"
          ]
        }
      ]
    },
    {
      "cell_type": "code",
      "source": [
        "#Hierarchical Inheritance\n",
        "class Vehicle:\n",
        "    def info(self):\n",
        "        print(\"This is Vehicle\")\n",
        "\n",
        "class Car(Vehicle):\n",
        "    def car_info(self, name):\n",
        "        print(\"Car name is:\", name)\n",
        "\n",
        "class Truck(Vehicle):\n",
        "    def truck_info(self, name):\n",
        "        print(\"Truck name is:\", name)\n",
        "\n",
        "obj1 = Car()\n",
        "obj1.info()\n",
        "obj1.car_info('BMW')\n",
        "\n",
        "obj2 = Truck()\n",
        "obj2.info()\n",
        "obj2.truck_info('Ford')"
      ],
      "metadata": {
        "colab": {
          "base_uri": "https://localhost:8080/"
        },
        "id": "PJXWFAm7lKIr",
        "outputId": "76de3100-79d3-44e4-d71e-e512749806c2"
      },
      "execution_count": null,
      "outputs": [
        {
          "output_type": "stream",
          "name": "stdout",
          "text": [
            "This is Vehicle\n",
            "Car name is: BMW\n",
            "This is Vehicle\n",
            "Truck name is: Ford\n"
          ]
        }
      ]
    },
    {
      "cell_type": "code",
      "source": [
        "#Hybrid Inheritance\n",
        "class Vehicle:\n",
        "    def vehicle_info(self):\n",
        "        print(\"Inside Vehicle class\")\n",
        "\n",
        "class Car(Vehicle):\n",
        "    def car_info(self):\n",
        "        print(\"Inside Car class\")\n",
        "\n",
        "class Truck(Vehicle):\n",
        "    def truck_info(self):\n",
        "        print(\"Inside Truck class\")\n",
        "\n",
        "# Sports Car can inherits properties of Vehicle and Car\n",
        "class SportsCar(Car, Vehicle):\n",
        "    def sports_car_info(self):\n",
        "        print(\"Inside SportsCar class\")\n",
        "\n",
        "# create object\n",
        "s_car = SportsCar()\n",
        "\n",
        "s_car.vehicle_info()\n",
        "s_car.car_info()\n",
        "s_car.sports_car_info()"
      ],
      "metadata": {
        "colab": {
          "base_uri": "https://localhost:8080/"
        },
        "id": "eW66LswnlRop",
        "outputId": "432594b8-aea5-47b2-c93e-d160735510c3"
      },
      "execution_count": null,
      "outputs": [
        {
          "output_type": "stream",
          "name": "stdout",
          "text": [
            "Inside Vehicle class\n",
            "Inside Car class\n",
            "Inside SportsCar class\n"
          ]
        }
      ]
    },
    {
      "cell_type": "code",
      "source": [
        "#When a class inherits all properties and behavior from the parent class is called inheritance.\n",
        "#In such a case, the inherited class is a subclass and the latter class is the parent class.\n",
        "#In child class, we can refer to parent class by using the super() function. \n",
        "#The super function returns a temporary object of the parent class that allows us to call a parent class method inside a child class method.\n",
        "class Company:\n",
        "    def company_name(self):\n",
        "        return 'Google'\n",
        "\n",
        "class Employee(Company):\n",
        "    def info(self):\n",
        "        # Calling the superclass method using super()function\n",
        "        c_name = super().company_name()\n",
        "        print(\"Jessa works at\", c_name)\n",
        "\n",
        "# Creating object of child class\n",
        "emp = Employee()\n",
        "emp.info()"
      ],
      "metadata": {
        "colab": {
          "base_uri": "https://localhost:8080/"
        },
        "id": "XtFJOKP-lf9m",
        "outputId": "c3c98b1d-8e62-4956-8d79-01f0f48116a5"
      },
      "execution_count": null,
      "outputs": [
        {
          "output_type": "stream",
          "name": "stdout",
          "text": [
            "Jessa works at Google\n"
          ]
        }
      ]
    },
    {
      "cell_type": "code",
      "source": [
        ""
      ],
      "metadata": {
        "id": "Kr1kzx4il2un"
      },
      "execution_count": null,
      "outputs": []
    },
    {
      "cell_type": "markdown",
      "source": [
        "# **Dynamically Add Instance Variable to a Object**\n",
        "syntax: object_referance.variable_name = value"
      ],
      "metadata": {
        "id": "xEQOllBTnzsC"
      }
    },
    {
      "cell_type": "code",
      "source": [
        "class Student:\n",
        "    def __init__(self, name, age):\n",
        "        # Instance variable\n",
        "        self.name = name\n",
        "        self.age = age\n",
        "\n",
        "# create object\n",
        "stud = Student(\"Jessa\", 20)\n",
        "\n",
        "print('Before')\n",
        "print('Name:', stud.name, 'Age:', stud.age)\n",
        "\n",
        "# add new instance variable 'marks' to stud\n",
        "stud.marks = 75\n",
        "print('After')\n",
        "print('Name:', stud.name, 'Age:', stud.age, 'Marks:', stud.marks)"
      ],
      "metadata": {
        "colab": {
          "base_uri": "https://localhost:8080/"
        },
        "id": "ZfZM3QaQn8ra",
        "outputId": "6190b820-06e9-485c-fa88-bac58b9f773f"
      },
      "execution_count": null,
      "outputs": [
        {
          "output_type": "stream",
          "name": "stdout",
          "text": [
            "Before\n",
            "Name: Jessa Age: 20\n",
            "After\n",
            "Name: Jessa Age: 20 Marks: 75\n"
          ]
        }
      ]
    },
    {
      "cell_type": "code",
      "source": [
        "#Dynamically Delete Instance Variable\n",
        "class Student:\n",
        "    def __init__(self, roll_no, name):\n",
        "        # Instance variable\n",
        "        self.roll_no = roll_no\n",
        "        self.name = name\n",
        "\n",
        "# create object\n",
        "s1 = Student(10, 'Jessa')\n",
        "print(s1.roll_no, s1.name)\n",
        "\n",
        "# del name\n",
        "del s1.name\n",
        "# Try to access name variable\n",
        "print(s1.name)"
      ],
      "metadata": {
        "colab": {
          "base_uri": "https://localhost:8080/",
          "height": 218
        },
        "id": "g76U1GtuoGKl",
        "outputId": "2658c2a8-d32a-4ab6-e8b5-abea5a6b5a5d"
      },
      "execution_count": null,
      "outputs": [
        {
          "output_type": "stream",
          "name": "stdout",
          "text": [
            "10 Jessa\n"
          ]
        },
        {
          "output_type": "error",
          "ename": "AttributeError",
          "evalue": "ignored",
          "traceback": [
            "\u001b[0;31m---------------------------------------------------------------------------\u001b[0m",
            "\u001b[0;31mAttributeError\u001b[0m                            Traceback (most recent call last)",
            "\u001b[0;32m<ipython-input-30-befcc684b32d>\u001b[0m in \u001b[0;36m<module>\u001b[0;34m()\u001b[0m\n\u001b[1;32m     13\u001b[0m \u001b[0;32mdel\u001b[0m \u001b[0ms1\u001b[0m\u001b[0;34m.\u001b[0m\u001b[0mname\u001b[0m\u001b[0;34m\u001b[0m\u001b[0;34m\u001b[0m\u001b[0m\n\u001b[1;32m     14\u001b[0m \u001b[0;31m# Try to access name variable\u001b[0m\u001b[0;34m\u001b[0m\u001b[0;34m\u001b[0m\u001b[0;34m\u001b[0m\u001b[0m\n\u001b[0;32m---> 15\u001b[0;31m \u001b[0mprint\u001b[0m\u001b[0;34m(\u001b[0m\u001b[0ms1\u001b[0m\u001b[0;34m.\u001b[0m\u001b[0mname\u001b[0m\u001b[0;34m)\u001b[0m\u001b[0;34m\u001b[0m\u001b[0;34m\u001b[0m\u001b[0m\n\u001b[0m",
            "\u001b[0;31mAttributeError\u001b[0m: 'Student' object has no attribute 'name'"
          ]
        }
      ]
    },
    {
      "cell_type": "code",
      "source": [
        "class Student:\n",
        "    def __init__(self, roll_no, name):\n",
        "        # Instance variable\n",
        "        self.roll_no = roll_no\n",
        "        self.name = name\n",
        "\n",
        "    def show(self):\n",
        "        print(self.roll_no, self.name)\n",
        "\n",
        "s1 = Student(10, 'Jessa')\n",
        "s1.show()\n",
        "\n",
        "# delete instance variable using delattr()\n",
        "#delattr(s1, 'roll_no')\n",
        "s1.show()"
      ],
      "metadata": {
        "colab": {
          "base_uri": "https://localhost:8080/"
        },
        "id": "wolJY70Eobod",
        "outputId": "d1281e6e-163a-44b9-d3ab-c8202c84a393"
      },
      "execution_count": null,
      "outputs": [
        {
          "output_type": "stream",
          "name": "stdout",
          "text": [
            "10 Jessa\n",
            "10 Jessa\n"
          ]
        }
      ]
    },
    {
      "cell_type": "code",
      "source": [
        "#We can access instance variables of one class from another class using object reference.\n",
        "class Vehicle:\n",
        "    def __init__(self):\n",
        "        self.engine = '1500cc'\n",
        "\n",
        "class Car(Vehicle):\n",
        "    def __init__(self, max_speed):\n",
        "        # call parent class constructor\n",
        "        super().__init__()\n",
        "        self.max_speed = max_speed\n",
        "\n",
        "    def display(self):\n",
        "        # access parent class instance variables 'engine'\n",
        "        print(\"Engine:\", self.engine)\n",
        "        print(\"Max Speed:\", self.max_speed)\n",
        "\n",
        "# Object of car\n",
        "car = Car(240)\n",
        "car.display()"
      ],
      "metadata": {
        "colab": {
          "base_uri": "https://localhost:8080/"
        },
        "id": "lfZT2wKTomrR",
        "outputId": "71d63f74-8814-4897-b5e7-b6f9f1b5b7dc"
      },
      "execution_count": null,
      "outputs": [
        {
          "output_type": "stream",
          "name": "stdout",
          "text": [
            "Engine: 1500cc\n",
            "Max Speed: 240\n"
          ]
        }
      ]
    },
    {
      "cell_type": "markdown",
      "source": [
        "# **Reversed List**"
      ],
      "metadata": {
        "id": "3LQP3zrOq800"
      }
    },
    {
      "cell_type": "code",
      "source": [
        "# Reversed numbers using reversed() function\n",
        "list1 = [10, 20, 30, 40]\n",
        "for num in reversed(list1):\n",
        "    print(num)"
      ],
      "metadata": {
        "colab": {
          "base_uri": "https://localhost:8080/"
        },
        "id": "QgGYAp6wpWzK",
        "outputId": "907f1811-2460-4654-ce18-7ebb7f763418"
      },
      "execution_count": null,
      "outputs": [
        {
          "output_type": "stream",
          "name": "stdout",
          "text": [
            "40\n",
            "30\n",
            "20\n",
            "10\n"
          ]
        }
      ]
    },
    {
      "cell_type": "code",
      "source": [
        "print(\"Reverse numbers using for loop\")\n",
        "num = 5\n",
        "# start = 5\n",
        "# stop = -1\n",
        "# step = -1\n",
        "for num in (range(num, -1, -1)):\n",
        "    print(num)"
      ],
      "metadata": {
        "colab": {
          "base_uri": "https://localhost:8080/"
        },
        "id": "a8CjbLJ8qy-T",
        "outputId": "9a4fd52d-59ec-4f06-cd54-20901160200a"
      },
      "execution_count": null,
      "outputs": [
        {
          "output_type": "stream",
          "name": "stdout",
          "text": [
            "Reverse numbers using for loop\n",
            "5\n",
            "4\n",
            "3\n",
            "2\n",
            "1\n",
            "0\n"
          ]
        }
      ]
    },
    {
      "cell_type": "code",
      "source": [
        "#Reverse a list using a loop\n",
        "numbers = [1, 2, 3, 4]\n",
        "for i in numbers[::-1]:\n",
        "    print(i)"
      ],
      "metadata": {
        "colab": {
          "base_uri": "https://localhost:8080/"
        },
        "id": "R8twS9u-rKQM",
        "outputId": "14eb1a1f-d237-42f7-d240-a2b48e1f9b6d"
      },
      "execution_count": null,
      "outputs": [
        {
          "output_type": "stream",
          "name": "stdout",
          "text": [
            "4\n",
            "3\n",
            "2\n",
            "1\n"
          ]
        }
      ]
    },
    {
      "cell_type": "code",
      "source": [
        "name = \"Jessa\"\n",
        "for i in name[::-1]:\n",
        "    print(i, end=' ')"
      ],
      "metadata": {
        "colab": {
          "base_uri": "https://localhost:8080/"
        },
        "id": "ImfnEobQsUeO",
        "outputId": "dff2e1b1-defc-45bd-8351-d36ee012a093"
      },
      "execution_count": null,
      "outputs": [
        {
          "output_type": "stream",
          "name": "stdout",
          "text": [
            "a s s e J "
          ]
        }
      ]
    },
    {
      "cell_type": "code",
      "source": [
        "#Nested for loop to print the following pattern\n",
        "rows = 5\n",
        "# outer loop\n",
        "for i in range(1, rows + 1):\n",
        "    # inner loop\n",
        "    for j in range(1, i + 1):\n",
        "        print(\"*\", end=\" \")\n",
        "    print('')"
      ],
      "metadata": {
        "colab": {
          "base_uri": "https://localhost:8080/"
        },
        "id": "ivsb5ueurMI7",
        "outputId": "90fa7662-c0f8-441e-ca4a-cb5930658b58"
      },
      "execution_count": null,
      "outputs": [
        {
          "output_type": "stream",
          "name": "stdout",
          "text": [
            "* \n",
            "* * \n",
            "* * * \n",
            "* * * * \n",
            "* * * * * \n"
          ]
        }
      ]
    },
    {
      "cell_type": "markdown",
      "source": [
        "# **Memoryview**\n",
        "The memoryview is used to create a view of the internal data of an object without copying it. So with the help of memoryview we can see the same data in a different view.\n",
        "\n",
        "To do this, we need a buffer protocol. The buffer protocol provides a way to access the internal data of an object. This internal data is a memory array or a buffer.\n",
        "\n",
        "In Python bytes and bytearray are built-in objects that support the buffer protocol. So we can create memoryview on top of those objects."
      ],
      "metadata": {
        "id": "GrH4IT-otjZd"
      }
    },
    {
      "cell_type": "code",
      "source": [
        "b_array = b'PYnative'\n",
        "b_array_view = memoryview(b_array)  # creating memory view for bytes objects\n",
        "print(\"view object: \", b_array_view)"
      ],
      "metadata": {
        "colab": {
          "base_uri": "https://localhost:8080/"
        },
        "id": "oPRXicM0ripi",
        "outputId": "0d30947d-1f1b-4eb0-b436-a9583706e3e4"
      },
      "execution_count": null,
      "outputs": [
        {
          "output_type": "stream",
          "name": "stdout",
          "text": [
            "view object:  <memory at 0x7fd2c1d21390>\n"
          ]
        }
      ]
    },
    {
      "cell_type": "code",
      "source": [
        "exp(2)"
      ],
      "metadata": {
        "id": "K_UoqQwUyFby"
      },
      "execution_count": null,
      "outputs": []
    },
    {
      "cell_type": "code",
      "source": [
        "a = 10+5j\n",
        "b = 5 + 10j\n",
        "c = a+b"
      ],
      "metadata": {
        "id": "jPdohCCAuNm1"
      },
      "execution_count": null,
      "outputs": []
    },
    {
      "cell_type": "code",
      "source": [
        "c"
      ],
      "metadata": {
        "colab": {
          "base_uri": "https://localhost:8080/"
        },
        "id": "huWfCdHPcv1g",
        "outputId": "93c60fa9-a989-4012-b437-0b44fb27939f"
      },
      "execution_count": null,
      "outputs": [
        {
          "output_type": "execute_result",
          "data": {
            "text/plain": [
              "(15+15j)"
            ]
          },
          "metadata": {},
          "execution_count": 6
        }
      ]
    },
    {
      "cell_type": "code",
      "source": [
        "exp(2)"
      ],
      "metadata": {
        "id": "9TjtVBfocwq1"
      },
      "execution_count": null,
      "outputs": []
    },
    {
      "cell_type": "markdown",
      "source": [
        "# **Exception Handling**\n",
        "ZeroDivisionError: Occurs when a number is divided by zero.\n",
        "\n",
        "NameError: It occurs when a name is not found. It may be local or global.\n",
        "\n",
        "IndentationError: If incorrect indentation is given.\n",
        "\n",
        "IOError: It occurs when Input Output operation fails.\n",
        "\n",
        "EOFError: It occurs when the end of the file is reached, and yet operations are being performed."
      ],
      "metadata": {
        "id": "d9udSQKuurjh"
      }
    },
    {
      "cell_type": "code",
      "source": [
        "# 2 Blocks\n",
        "# 1. try:\n",
        "#{\n",
        "  #Write the actual code  \n",
        "##\n",
        "#\n",
        "#}\n",
        "#2. Except:\n",
        "#{We're handling the error here.}\n"
      ],
      "metadata": {
        "id": "JuOD0f12uPSu"
      },
      "execution_count": null,
      "outputs": []
    },
    {
      "cell_type": "code",
      "source": [
        "# import module sys to get the type of exception\n",
        "try: #try Block  \n",
        "    a = int(input(\"Enter a:\"))    # Actual work.\n",
        "    b = int(input(\"Enter b:\"))   # Actual work \n",
        "    c = a/b  \n",
        "    print(c)\n",
        "\n",
        "except ZeroDivisionError:  \n",
        "    print(\"Can't divide with zero\")  \n"
      ],
      "metadata": {
        "id": "pIU2bPKquu9G",
        "outputId": "9f7cc3f2-749d-4dfc-d471-7ad129974088",
        "colab": {
          "base_uri": "https://localhost:8080/"
        }
      },
      "execution_count": null,
      "outputs": [
        {
          "name": "stdout",
          "output_type": "stream",
          "text": [
            "Enter a:12\n"
          ]
        }
      ]
    },
    {
      "cell_type": "code",
      "source": [
        "#002# import module sys to get the type of exception\n",
        "import sys\n",
        "\n",
        "randomList = ['a', 0, 2]\n",
        "\n",
        "for entry in randomList:\n",
        "    try:\n",
        "        print(\"The entry is\", entry)\n",
        "        r = 1/int(entry)\n",
        "        break\n",
        "    except Exception as e:\n",
        "        print(\"Oops!\", e.__class__, \"occurred.\")\n",
        "        print(\"Next entry.\")\n",
        "        print()\n",
        "print(\"The reciprocal of\", entry, \"is\", r)"
      ],
      "metadata": {
        "colab": {
          "base_uri": "https://localhost:8080/"
        },
        "id": "PFTJ1sKnux3T",
        "outputId": "b7b9f143-7cb8-4945-b250-845e54170ed8"
      },
      "execution_count": null,
      "outputs": [
        {
          "output_type": "stream",
          "name": "stdout",
          "text": [
            "The entry is a\n",
            "Oops! <class 'ValueError'> occurred.\n",
            "Next entry.\n",
            "\n",
            "The entry is 0\n",
            "Oops! <class 'ZeroDivisionError'> occurred.\n",
            "Next entry.\n",
            "\n",
            "The entry is 2\n",
            "The reciprocal of 2 is 0.5\n"
          ]
        }
      ]
    },
    {
      "cell_type": "code",
      "source": [
        "#The try statement in Python can have an optional finally clause. \n",
        "#This clause is executed no matter what, and is generally used to release external resources."
      ],
      "metadata": {
        "id": "SKdumr2ovEmD"
      },
      "execution_count": null,
      "outputs": []
    },
    {
      "cell_type": "code",
      "source": [
        "#Raising exceptions\n",
        "#An exception can be raised forcefully by using the raise clause in Python. \n",
        "#It is useful in in that scenario where we need to raise an exception to stop the execution of the program.\n",
        "\n",
        "#For example, there is a program that requires 2GB memory for execution, and if the program tries to occupy 2GB of memory, \n",
        "#then we can raise an exception to stop the execution of the program."
      ],
      "metadata": {
        "id": "ZLhvEjtBvKJd"
      },
      "execution_count": null,
      "outputs": []
    },
    {
      "cell_type": "code",
      "source": [
        "try:    \n",
        "    age = int(input(\"Enter the age:\"))    \n",
        "    if(age<18):    \n",
        "        raise ValueError   \n",
        "    else:    \n",
        "        print(\"the age is valid\")    \n",
        "except ValueError:    \n",
        "    print(\"The age is not valid\")    "
      ],
      "metadata": {
        "colab": {
          "base_uri": "https://localhost:8080/"
        },
        "id": "dOn4KDSqwcay",
        "outputId": "f9c80e2a-53a5-446f-920e-f3a5e494f152"
      },
      "execution_count": null,
      "outputs": [
        {
          "output_type": "stream",
          "name": "stdout",
          "text": [
            "Enter the age:17\n",
            "The age is not valid\n"
          ]
        }
      ]
    },
    {
      "cell_type": "code",
      "source": [
        "class ErrorInCode(Exception):      \n",
        "    def __init__(self, data):      \n",
        "        self.data = data      \n",
        "    def __str__(self):      \n",
        "        return repr(self.data)      \n",
        "      \n",
        "try:      \n",
        "    raise ErrorInCode(2000)      \n",
        "except ErrorInCode as ae:      \n",
        "    print(\"Received error:\", ae.data)     "
      ],
      "metadata": {
        "id": "bwO1DrdhwjOs"
      },
      "execution_count": null,
      "outputs": []
    },
    {
      "cell_type": "markdown",
      "source": [
        "# **Modules**\n",
        "It refer to a file containing Python statements and definitions.\n",
        "\n",
        "A file containing Python code, for example: example.py, is called a module, and its module name would be example."
      ],
      "metadata": {
        "id": "PaEpwTDDxVDp"
      }
    },
    {
      "cell_type": "code",
      "source": [
        "# Python Module example\n",
        "\n",
        "def add(a, b):\n",
        "   \"\"\"This program adds two\n",
        "   numbers and return the result\"\"\"\n",
        "\n",
        "   result = a + b\n",
        "   return result"
      ],
      "metadata": {
        "id": "0wqip04ewqWt"
      },
      "execution_count": null,
      "outputs": []
    },
    {
      "cell_type": "code",
      "source": [
        "# import statement example\n",
        "# to import standard module math\n",
        "\n",
        "import math\n",
        "print(\"The value of pi is\", math.pi)"
      ],
      "metadata": {
        "colab": {
          "base_uri": "https://localhost:8080/"
        },
        "id": "176nf4VbxfBh",
        "outputId": "5e856d3b-a129-412f-dbbd-15839ccc0a50"
      },
      "execution_count": null,
      "outputs": [
        {
          "output_type": "stream",
          "name": "stdout",
          "text": [
            "The value of pi is 3.141592653589793\n"
          ]
        }
      ]
    },
    {
      "cell_type": "code",
      "source": [
        "# import all names from the standard module math\n",
        "\n",
        "from math import *\n",
        "print(\"The value of pi is\", pi)"
      ],
      "metadata": {
        "colab": {
          "base_uri": "https://localhost:8080/"
        },
        "id": "C4b6RSuTxkMx",
        "outputId": "2e2a22b8-199c-42b4-9c70-2a07edf286ae"
      },
      "execution_count": null,
      "outputs": [
        {
          "output_type": "stream",
          "name": "stdout",
          "text": [
            "The value of pi is 3.141592653589793\n"
          ]
        }
      ]
    },
    {
      "cell_type": "code",
      "source": [
        "import sys\n",
        "sys.path\n"
      ],
      "metadata": {
        "colab": {
          "base_uri": "https://localhost:8080/"
        },
        "id": "s3j2jDykx4c8",
        "outputId": "3ae41201-ec0d-4332-de08-5a24ac665fed"
      },
      "execution_count": null,
      "outputs": [
        {
          "output_type": "execute_result",
          "data": {
            "text/plain": [
              "['',\n",
              " '/content',\n",
              " '/env/python',\n",
              " '/usr/lib/python37.zip',\n",
              " '/usr/lib/python3.7',\n",
              " '/usr/lib/python3.7/lib-dynload',\n",
              " '/usr/local/lib/python3.7/dist-packages',\n",
              " '/usr/lib/python3/dist-packages',\n",
              " '/usr/local/lib/python3.7/dist-packages/IPython/extensions',\n",
              " '/root/.ipython']"
            ]
          },
          "metadata": {},
          "execution_count": 7
        }
      ]
    },
    {
      "cell_type": "markdown",
      "source": [
        "# Packages\n",
        "We don't usually store all of our files on our computer in the same location. We use a well-organized hierarchy of directories for easier access.![PackageModuleStructure.webp](data:image/webp;base64,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)"
      ],
      "metadata": {
        "id": "4TfIx6c8y9Wn"
      }
    },
    {
      "cell_type": "code",
      "source": [
        "#import Game.Level.start\n",
        "#If this construct seems lengthy, we can import the module without the package prefix as follows:"
      ],
      "metadata": {
        "id": "_PEnw_JEyCIl"
      },
      "execution_count": null,
      "outputs": []
    },
    {
      "cell_type": "code",
      "source": [
        "#from Game.Level import start\n"
      ],
      "metadata": {
        "id": "MJcML1TYzsdX"
      },
      "execution_count": null,
      "outputs": []
    },
    {
      "cell_type": "markdown",
      "source": [
        "# **File handling**"
      ],
      "metadata": {
        "id": "byLRQCpK3meE"
      }
    },
    {
      "cell_type": "code",
      "source": [
        "f = open(\"demofile2.txt\")"
      ],
      "metadata": {
        "id": "3WrcnXHt0bCE"
      },
      "execution_count": null,
      "outputs": []
    },
    {
      "cell_type": "code",
      "source": [
        "print(f.read())"
      ],
      "metadata": {
        "colab": {
          "base_uri": "https://localhost:8080/"
        },
        "id": "xco9O8Rn1uVM",
        "outputId": "de275e54-3ee9-4141-9d88-dc8810280fe6"
      },
      "execution_count": null,
      "outputs": [
        {
          "output_type": "stream",
          "name": "stdout",
          "text": [
            "Now the file has more content!\n"
          ]
        }
      ]
    },
    {
      "cell_type": "code",
      "source": [
        "#Write to an Existing File\n",
        "#To write to an existing file, you must add a parameter to the open() function:\n",
        "\n",
        "#\"a\" - Append - will append to the end of the file\n",
        "\n",
        "#\"w\" - Write - will overwrite any existing content\n",
        "#\"x\" - Create - will create a file, returns an error if the file exist"
      ],
      "metadata": {
        "id": "6QImoWjv2BDy"
      },
      "execution_count": null,
      "outputs": []
    },
    {
      "cell_type": "code",
      "source": [
        "f = open(\"demofile2.txt\", \"a\")\n",
        "f.write(\"Now the file has more content!\")\n",
        "f.close()\n",
        "\n",
        "#open and read the file after the appending:\n",
        "f = open(\"demofile2.txt\", \"r\")\n",
        "print(f.read())"
      ],
      "metadata": {
        "colab": {
          "base_uri": "https://localhost:8080/"
        },
        "id": "vgqMh5gf2OK2",
        "outputId": "e3c00e77-a3e5-4e1b-cb0e-f202faa2dbdf"
      },
      "execution_count": null,
      "outputs": [
        {
          "output_type": "stream",
          "name": "stdout",
          "text": [
            "Now the file has more content!\n"
          ]
        }
      ]
    },
    {
      "cell_type": "code",
      "source": [
        ""
      ],
      "metadata": {
        "id": "_KQGWKd02RQM",
        "colab": {
          "base_uri": "https://localhost:8080/",
          "height": 166
        },
        "outputId": "68c7278d-9565-4514-f926-8654c4156d46"
      },
      "execution_count": null,
      "outputs": [
        {
          "output_type": "error",
          "ename": "FileExistsError",
          "evalue": "ignored",
          "traceback": [
            "\u001b[0;31m---------------------------------------------------------------------------\u001b[0m",
            "\u001b[0;31mFileExistsError\u001b[0m                           Traceback (most recent call last)",
            "\u001b[0;32m<ipython-input-15-8c90a6f04865>\u001b[0m in \u001b[0;36m<module>\u001b[0;34m()\u001b[0m\n\u001b[0;32m----> 1\u001b[0;31m \u001b[0mf\u001b[0m \u001b[0;34m=\u001b[0m \u001b[0mopen\u001b[0m\u001b[0;34m(\u001b[0m\u001b[0;34m\"myfile.txt\"\u001b[0m\u001b[0;34m,\u001b[0m \u001b[0;34m\"x\"\u001b[0m\u001b[0;34m)\u001b[0m\u001b[0;34m\u001b[0m\u001b[0;34m\u001b[0m\u001b[0m\n\u001b[0m",
            "\u001b[0;31mFileExistsError\u001b[0m: [Errno 17] File exists: 'myfile.txt'"
          ]
        }
      ]
    },
    {
      "cell_type": "code",
      "source": [
        "#Delete a File\n",
        "#To delete a file, you must import the OS module, and run its os.remove() function:"
      ],
      "metadata": {
        "id": "V4X2-PL12aii"
      },
      "execution_count": null,
      "outputs": []
    },
    {
      "cell_type": "code",
      "source": [
        ""
      ],
      "metadata": {
        "id": "TTAPNV5u2r9B",
        "colab": {
          "base_uri": "https://localhost:8080/",
          "height": 183
        },
        "outputId": "ec829a81-4480-4aee-c0fd-42c108b34988"
      },
      "execution_count": null,
      "outputs": [
        {
          "output_type": "error",
          "ename": "FileNotFoundError",
          "evalue": "ignored",
          "traceback": [
            "\u001b[0;31m---------------------------------------------------------------------------\u001b[0m",
            "\u001b[0;31mFileNotFoundError\u001b[0m                         Traceback (most recent call last)",
            "\u001b[0;32m<ipython-input-17-332fd57ac1cf>\u001b[0m in \u001b[0;36m<module>\u001b[0;34m()\u001b[0m\n\u001b[1;32m      1\u001b[0m \u001b[0;32mimport\u001b[0m \u001b[0mos\u001b[0m\u001b[0;34m\u001b[0m\u001b[0;34m\u001b[0m\u001b[0m\n\u001b[0;32m----> 2\u001b[0;31m \u001b[0mos\u001b[0m\u001b[0;34m.\u001b[0m\u001b[0mremove\u001b[0m\u001b[0;34m(\u001b[0m\u001b[0;34m\"demofile2.txt\"\u001b[0m\u001b[0;34m)\u001b[0m\u001b[0;34m\u001b[0m\u001b[0;34m\u001b[0m\u001b[0m\n\u001b[0m",
            "\u001b[0;31mFileNotFoundError\u001b[0m: [Errno 2] No such file or directory: 'demofile2.txt'"
          ]
        }
      ]
    },
    {
      "cell_type": "code",
      "source": [
        "#Check if File exist:\n",
        "#To avoid getting an error, you might want to check if the file exists before you try to delete it:\n",
        "import os\n",
        "if os.path.exists(\"demofile.txt\"):\n",
        "  os.remove(\"demofile.txt\")\n",
        "else:\n",
        "  print(\"The file does not exist\")"
      ],
      "metadata": {
        "colab": {
          "base_uri": "https://localhost:8080/"
        },
        "id": "iXiMD4DT2upZ",
        "outputId": "2ca6ab67-0c0b-4722-ff3d-c4c2f0005de6"
      },
      "execution_count": null,
      "outputs": [
        {
          "output_type": "stream",
          "name": "stdout",
          "text": [
            "The file does not exist\n"
          ]
        }
      ]
    },
    {
      "cell_type": "code",
      "source": [
        "! pip install numpy"
      ],
      "metadata": {
        "id": "M2ovVnNA202j",
        "colab": {
          "base_uri": "https://localhost:8080/"
        },
        "outputId": "c840ad10-f41b-4d7f-bdf6-1ad27768781f"
      },
      "execution_count": null,
      "outputs": [
        {
          "output_type": "stream",
          "name": "stdout",
          "text": [
            "Requirement already satisfied: numpy in /usr/local/lib/python3.7/dist-packages (1.21.5)\n"
          ]
        }
      ]
    },
    {
      "cell_type": "code",
      "source": [
        "import threading"
      ],
      "metadata": {
        "id": "CxZOEDaAok0W"
      },
      "execution_count": null,
      "outputs": []
    },
    {
      "cell_type": "code",
      "source": [
        "#t1 = treading.Thread(target = \"add\",agrs())\n",
        "#t1.srart()\n",
        "#t1.join()"
      ],
      "metadata": {
        "id": "aI6gT6tnpOKP"
      },
      "execution_count": null,
      "outputs": []
    },
    {
      "cell_type": "code",
      "source": [
        ""
      ],
      "metadata": {
        "id": "75HZqWnCp_1B"
      },
      "execution_count": null,
      "outputs": []
    }
  ]
}